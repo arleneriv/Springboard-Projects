{
 "cells": [
  {
   "cell_type": "code",
   "execution_count": 1,
   "id": "101c7cb0",
   "metadata": {},
   "outputs": [],
   "source": [
    "import numpy as np\n",
    "import pandas as pd\n",
    "import matplotlib.pyplot as plt\n",
    "import seaborn as sns\n",
    "%matplotlib inline\n",
    "from sklearn.linear_model import LinearRegression\n",
    "from sklearn.model_selection import train_test_split\n",
    "from sklearn.ensemble import RandomForestRegressor"
   ]
  },
  {
   "cell_type": "code",
   "execution_count": 2,
   "id": "0b34393f",
   "metadata": {},
   "outputs": [],
   "source": [
    "df = pd.read_csv('California_Houses.csv')"
   ]
  },
  {
   "cell_type": "code",
   "execution_count": 3,
   "id": "b95d2fc9",
   "metadata": {},
   "outputs": [
    {
     "name": "stdout",
     "output_type": "stream",
     "text": [
      "<class 'pandas.core.frame.DataFrame'>\n",
      "RangeIndex: 20640 entries, 0 to 20639\n",
      "Data columns (total 14 columns):\n",
      " #   Column                    Non-Null Count  Dtype  \n",
      "---  ------                    --------------  -----  \n",
      " 0   Median_House_Value        20640 non-null  float64\n",
      " 1   Median_Income             20640 non-null  float64\n",
      " 2   Median_Age                20640 non-null  int64  \n",
      " 3   Tot_Rooms                 20640 non-null  int64  \n",
      " 4   Tot_Bedrooms              20640 non-null  int64  \n",
      " 5   Population                20640 non-null  int64  \n",
      " 6   Households                20640 non-null  int64  \n",
      " 7   Latitude                  20640 non-null  float64\n",
      " 8   Longitude                 20640 non-null  float64\n",
      " 9   Distance_to_coast         20640 non-null  float64\n",
      " 10  Distance_to_LA            20640 non-null  float64\n",
      " 11  Distance_to_SanDiego      20640 non-null  float64\n",
      " 12  Distance_to_SanJose       20640 non-null  float64\n",
      " 13  Distance_to_SanFrancisco  20640 non-null  float64\n",
      "dtypes: float64(9), int64(5)\n",
      "memory usage: 2.2 MB\n"
     ]
    }
   ],
   "source": [
    "df.info()"
   ]
  },
  {
   "cell_type": "code",
   "execution_count": 4,
   "id": "670b0d77",
   "metadata": {},
   "outputs": [
    {
     "data": {
      "text/html": [
       "<div>\n",
       "<style scoped>\n",
       "    .dataframe tbody tr th:only-of-type {\n",
       "        vertical-align: middle;\n",
       "    }\n",
       "\n",
       "    .dataframe tbody tr th {\n",
       "        vertical-align: top;\n",
       "    }\n",
       "\n",
       "    .dataframe thead th {\n",
       "        text-align: right;\n",
       "    }\n",
       "</style>\n",
       "<table border=\"1\" class=\"dataframe\">\n",
       "  <thead>\n",
       "    <tr style=\"text-align: right;\">\n",
       "      <th></th>\n",
       "      <th>Median_Income</th>\n",
       "      <th>Median_Age</th>\n",
       "      <th>Tot_Rooms</th>\n",
       "      <th>Tot_Bedrooms</th>\n",
       "      <th>Population</th>\n",
       "      <th>Households</th>\n",
       "      <th>Latitude</th>\n",
       "      <th>Longitude</th>\n",
       "      <th>Distance_to_coast</th>\n",
       "      <th>Distance_to_LA</th>\n",
       "      <th>Distance_to_SanDiego</th>\n",
       "      <th>Distance_to_SanJose</th>\n",
       "      <th>Distance_to_SanFrancisco</th>\n",
       "    </tr>\n",
       "  </thead>\n",
       "  <tbody>\n",
       "    <tr>\n",
       "      <th>0</th>\n",
       "      <td>8.3252</td>\n",
       "      <td>41</td>\n",
       "      <td>880</td>\n",
       "      <td>129</td>\n",
       "      <td>322</td>\n",
       "      <td>126</td>\n",
       "      <td>37.88</td>\n",
       "      <td>-122.23</td>\n",
       "      <td>9263.040773</td>\n",
       "      <td>556529.158342</td>\n",
       "      <td>735501.806984</td>\n",
       "      <td>67432.517001</td>\n",
       "      <td>21250.213767</td>\n",
       "    </tr>\n",
       "    <tr>\n",
       "      <th>1</th>\n",
       "      <td>8.3014</td>\n",
       "      <td>21</td>\n",
       "      <td>7099</td>\n",
       "      <td>1106</td>\n",
       "      <td>2401</td>\n",
       "      <td>1138</td>\n",
       "      <td>37.86</td>\n",
       "      <td>-122.22</td>\n",
       "      <td>10225.733072</td>\n",
       "      <td>554279.850069</td>\n",
       "      <td>733236.884360</td>\n",
       "      <td>65049.908574</td>\n",
       "      <td>20880.600400</td>\n",
       "    </tr>\n",
       "    <tr>\n",
       "      <th>2</th>\n",
       "      <td>7.2574</td>\n",
       "      <td>52</td>\n",
       "      <td>1467</td>\n",
       "      <td>190</td>\n",
       "      <td>496</td>\n",
       "      <td>177</td>\n",
       "      <td>37.85</td>\n",
       "      <td>-122.24</td>\n",
       "      <td>8259.085109</td>\n",
       "      <td>554610.717069</td>\n",
       "      <td>733525.682937</td>\n",
       "      <td>64867.289833</td>\n",
       "      <td>18811.487450</td>\n",
       "    </tr>\n",
       "    <tr>\n",
       "      <th>3</th>\n",
       "      <td>5.6431</td>\n",
       "      <td>52</td>\n",
       "      <td>1274</td>\n",
       "      <td>235</td>\n",
       "      <td>558</td>\n",
       "      <td>219</td>\n",
       "      <td>37.85</td>\n",
       "      <td>-122.25</td>\n",
       "      <td>7768.086571</td>\n",
       "      <td>555194.266086</td>\n",
       "      <td>734095.290744</td>\n",
       "      <td>65287.138412</td>\n",
       "      <td>18031.047568</td>\n",
       "    </tr>\n",
       "    <tr>\n",
       "      <th>4</th>\n",
       "      <td>3.8462</td>\n",
       "      <td>52</td>\n",
       "      <td>1627</td>\n",
       "      <td>280</td>\n",
       "      <td>565</td>\n",
       "      <td>259</td>\n",
       "      <td>37.85</td>\n",
       "      <td>-122.25</td>\n",
       "      <td>7768.086571</td>\n",
       "      <td>555194.266086</td>\n",
       "      <td>734095.290744</td>\n",
       "      <td>65287.138412</td>\n",
       "      <td>18031.047568</td>\n",
       "    </tr>\n",
       "  </tbody>\n",
       "</table>\n",
       "</div>"
      ],
      "text/plain": [
       "   Median_Income  Median_Age  Tot_Rooms  Tot_Bedrooms  Population  Households  \\\n",
       "0         8.3252          41        880           129         322         126   \n",
       "1         8.3014          21       7099          1106        2401        1138   \n",
       "2         7.2574          52       1467           190         496         177   \n",
       "3         5.6431          52       1274           235         558         219   \n",
       "4         3.8462          52       1627           280         565         259   \n",
       "\n",
       "   Latitude  Longitude  Distance_to_coast  Distance_to_LA  \\\n",
       "0     37.88    -122.23        9263.040773   556529.158342   \n",
       "1     37.86    -122.22       10225.733072   554279.850069   \n",
       "2     37.85    -122.24        8259.085109   554610.717069   \n",
       "3     37.85    -122.25        7768.086571   555194.266086   \n",
       "4     37.85    -122.25        7768.086571   555194.266086   \n",
       "\n",
       "   Distance_to_SanDiego  Distance_to_SanJose  Distance_to_SanFrancisco  \n",
       "0         735501.806984         67432.517001              21250.213767  \n",
       "1         733236.884360         65049.908574              20880.600400  \n",
       "2         733525.682937         64867.289833              18811.487450  \n",
       "3         734095.290744         65287.138412              18031.047568  \n",
       "4         734095.290744         65287.138412              18031.047568  "
      ]
     },
     "execution_count": 4,
     "metadata": {},
     "output_type": "execute_result"
    }
   ],
   "source": [
    "X = df.iloc[:,1:]\n",
    "X.head()"
   ]
  },
  {
   "cell_type": "code",
   "execution_count": 5,
   "id": "e382becb",
   "metadata": {},
   "outputs": [
    {
     "data": {
      "text/plain": [
       "0    452600.0\n",
       "1    358500.0\n",
       "2    352100.0\n",
       "3    341300.0\n",
       "4    342200.0\n",
       "Name: Median_House_Value, dtype: float64"
      ]
     },
     "execution_count": 5,
     "metadata": {},
     "output_type": "execute_result"
    }
   ],
   "source": [
    "y = df.iloc[:, 0]\n",
    "y.head()"
   ]
  },
  {
   "cell_type": "code",
   "execution_count": 6,
   "id": "a54ebc9e",
   "metadata": {},
   "outputs": [],
   "source": [
    "#Split data to train 80% and test 20%\n",
    "X_train, X_test, y_train, y_test = train_test_split(X, y, test_size=0.2)"
   ]
  },
  {
   "cell_type": "code",
   "execution_count": 7,
   "id": "2e7d00a5",
   "metadata": {},
   "outputs": [
    {
     "name": "stdout",
     "output_type": "stream",
     "text": [
      "(16512, 13) (16512,)\n",
      "(4128, 13) (4128,)\n"
     ]
    }
   ],
   "source": [
    "print(X_train.shape, y_train.shape)\n",
    "print(X_test.shape, y_test.shape)"
   ]
  },
  {
   "cell_type": "code",
   "execution_count": 8,
   "id": "b4ffeca4",
   "metadata": {},
   "outputs": [],
   "source": [
    "#Future scaling\n",
    "from sklearn.preprocessing import StandardScaler\n",
    "sc = StandardScaler()\n",
    "X_train.iloc[:, :] = sc.fit_transform(X_train.iloc[:, :])\n",
    "X_test.iloc[:, :] = sc.transform(X_test.iloc[:, :])"
   ]
  },
  {
   "cell_type": "code",
   "execution_count": 9,
   "id": "61de8568",
   "metadata": {},
   "outputs": [
    {
     "data": {
      "text/html": [
       "<div>\n",
       "<style scoped>\n",
       "    .dataframe tbody tr th:only-of-type {\n",
       "        vertical-align: middle;\n",
       "    }\n",
       "\n",
       "    .dataframe tbody tr th {\n",
       "        vertical-align: top;\n",
       "    }\n",
       "\n",
       "    .dataframe thead th {\n",
       "        text-align: right;\n",
       "    }\n",
       "</style>\n",
       "<table border=\"1\" class=\"dataframe\">\n",
       "  <thead>\n",
       "    <tr style=\"text-align: right;\">\n",
       "      <th></th>\n",
       "      <th>Median_Income</th>\n",
       "      <th>Median_Age</th>\n",
       "      <th>Tot_Rooms</th>\n",
       "      <th>Tot_Bedrooms</th>\n",
       "      <th>Population</th>\n",
       "      <th>Households</th>\n",
       "      <th>Latitude</th>\n",
       "      <th>Longitude</th>\n",
       "      <th>Distance_to_coast</th>\n",
       "      <th>Distance_to_LA</th>\n",
       "      <th>Distance_to_SanDiego</th>\n",
       "      <th>Distance_to_SanJose</th>\n",
       "      <th>Distance_to_SanFrancisco</th>\n",
       "    </tr>\n",
       "  </thead>\n",
       "  <tbody>\n",
       "    <tr>\n",
       "      <th>10729</th>\n",
       "      <td>1.450236</td>\n",
       "      <td>-0.688155</td>\n",
       "      <td>0.262427</td>\n",
       "      <td>0.077287</td>\n",
       "      <td>-0.324491</td>\n",
       "      <td>0.066155</td>\n",
       "      <td>-0.949268</td>\n",
       "      <td>0.846489</td>\n",
       "      <td>-0.662796</td>\n",
       "      <td>-0.841707</td>\n",
       "      <td>-0.964448</td>\n",
       "      <td>0.933347</td>\n",
       "      <td>0.931900</td>\n",
       "    </tr>\n",
       "    <tr>\n",
       "      <th>19133</th>\n",
       "      <td>-0.770015</td>\n",
       "      <td>-1.005762</td>\n",
       "      <td>0.187391</td>\n",
       "      <td>0.165727</td>\n",
       "      <td>0.219506</td>\n",
       "      <td>0.309107</td>\n",
       "      <td>1.275693</td>\n",
       "      <td>-1.575314</td>\n",
       "      <td>-0.341815</td>\n",
       "      <td>1.435410</td>\n",
       "      <td>1.402161</td>\n",
       "      <td>-0.990591</td>\n",
       "      <td>-1.270394</td>\n",
       "    </tr>\n",
       "    <tr>\n",
       "      <th>14990</th>\n",
       "      <td>-0.049297</td>\n",
       "      <td>0.582276</td>\n",
       "      <td>-0.281697</td>\n",
       "      <td>-0.407936</td>\n",
       "      <td>-0.255045</td>\n",
       "      <td>-0.380135</td>\n",
       "      <td>-1.361472</td>\n",
       "      <td>1.270929</td>\n",
       "      <td>-0.548634</td>\n",
       "      <td>-0.333412</td>\n",
       "      <td>-1.328113</td>\n",
       "      <td>1.512169</td>\n",
       "      <td>1.434294</td>\n",
       "    </tr>\n",
       "    <tr>\n",
       "      <th>446</th>\n",
       "      <td>0.002832</td>\n",
       "      <td>1.852707</td>\n",
       "      <td>-0.804186</td>\n",
       "      <td>-0.816670</td>\n",
       "      <td>-0.928142</td>\n",
       "      <td>-0.784173</td>\n",
       "      <td>1.050855</td>\n",
       "      <td>-1.360598</td>\n",
       "      <td>-0.725595</td>\n",
       "      <td>1.172997</td>\n",
       "      <td>1.177420</td>\n",
       "      <td>-1.290518</td>\n",
       "      <td>-1.479970</td>\n",
       "    </tr>\n",
       "    <tr>\n",
       "      <th>3209</th>\n",
       "      <td>-0.451961</td>\n",
       "      <td>0.264668</td>\n",
       "      <td>-0.529361</td>\n",
       "      <td>-0.611108</td>\n",
       "      <td>-0.447358</td>\n",
       "      <td>-0.625727</td>\n",
       "      <td>0.329499</td>\n",
       "      <td>-0.022364</td>\n",
       "      <td>2.304389</td>\n",
       "      <td>0.052291</td>\n",
       "      <td>0.217030</td>\n",
       "      <td>-0.540932</td>\n",
       "      <td>-0.357787</td>\n",
       "    </tr>\n",
       "  </tbody>\n",
       "</table>\n",
       "</div>"
      ],
      "text/plain": [
       "       Median_Income  Median_Age  Tot_Rooms  Tot_Bedrooms  Population  \\\n",
       "10729       1.450236   -0.688155   0.262427      0.077287   -0.324491   \n",
       "19133      -0.770015   -1.005762   0.187391      0.165727    0.219506   \n",
       "14990      -0.049297    0.582276  -0.281697     -0.407936   -0.255045   \n",
       "446         0.002832    1.852707  -0.804186     -0.816670   -0.928142   \n",
       "3209       -0.451961    0.264668  -0.529361     -0.611108   -0.447358   \n",
       "\n",
       "       Households  Latitude  Longitude  Distance_to_coast  Distance_to_LA  \\\n",
       "10729    0.066155 -0.949268   0.846489          -0.662796       -0.841707   \n",
       "19133    0.309107  1.275693  -1.575314          -0.341815        1.435410   \n",
       "14990   -0.380135 -1.361472   1.270929          -0.548634       -0.333412   \n",
       "446     -0.784173  1.050855  -1.360598          -0.725595        1.172997   \n",
       "3209    -0.625727  0.329499  -0.022364           2.304389        0.052291   \n",
       "\n",
       "       Distance_to_SanDiego  Distance_to_SanJose  Distance_to_SanFrancisco  \n",
       "10729             -0.964448             0.933347                  0.931900  \n",
       "19133              1.402161            -0.990591                 -1.270394  \n",
       "14990             -1.328113             1.512169                  1.434294  \n",
       "446                1.177420            -1.290518                 -1.479970  \n",
       "3209               0.217030            -0.540932                 -0.357787  "
      ]
     },
     "execution_count": 9,
     "metadata": {},
     "output_type": "execute_result"
    }
   ],
   "source": [
    "X_train.head()"
   ]
  },
  {
   "cell_type": "code",
   "execution_count": 10,
   "id": "96163168",
   "metadata": {},
   "outputs": [
    {
     "data": {
      "text/html": [
       "<div>\n",
       "<style scoped>\n",
       "    .dataframe tbody tr th:only-of-type {\n",
       "        vertical-align: middle;\n",
       "    }\n",
       "\n",
       "    .dataframe tbody tr th {\n",
       "        vertical-align: top;\n",
       "    }\n",
       "\n",
       "    .dataframe thead th {\n",
       "        text-align: right;\n",
       "    }\n",
       "</style>\n",
       "<table border=\"1\" class=\"dataframe\">\n",
       "  <thead>\n",
       "    <tr style=\"text-align: right;\">\n",
       "      <th></th>\n",
       "      <th>Median_Income</th>\n",
       "      <th>Median_Age</th>\n",
       "      <th>Tot_Rooms</th>\n",
       "      <th>Tot_Bedrooms</th>\n",
       "      <th>Population</th>\n",
       "      <th>Households</th>\n",
       "      <th>Latitude</th>\n",
       "      <th>Longitude</th>\n",
       "      <th>Distance_to_coast</th>\n",
       "      <th>Distance_to_LA</th>\n",
       "      <th>Distance_to_SanDiego</th>\n",
       "      <th>Distance_to_SanJose</th>\n",
       "      <th>Distance_to_SanFrancisco</th>\n",
       "    </tr>\n",
       "  </thead>\n",
       "  <tbody>\n",
       "    <tr>\n",
       "      <th>1667</th>\n",
       "      <td>1.136988</td>\n",
       "      <td>-1.085164</td>\n",
       "      <td>-0.226456</td>\n",
       "      <td>-0.508327</td>\n",
       "      <td>-0.297781</td>\n",
       "      <td>-0.467281</td>\n",
       "      <td>1.121117</td>\n",
       "      <td>-1.320650</td>\n",
       "      <td>-0.775438</td>\n",
       "      <td>1.205313</td>\n",
       "      <td>1.206046</td>\n",
       "      <td>-1.234833</td>\n",
       "      <td>-1.411387</td>\n",
       "    </tr>\n",
       "    <tr>\n",
       "      <th>5165</th>\n",
       "      <td>-1.003195</td>\n",
       "      <td>0.820482</td>\n",
       "      <td>-0.433150</td>\n",
       "      <td>-0.266910</td>\n",
       "      <td>0.035206</td>\n",
       "      <td>-0.237533</td>\n",
       "      <td>-0.785324</td>\n",
       "      <td>0.636766</td>\n",
       "      <td>-0.540100</td>\n",
       "      <td>-1.039255</td>\n",
       "      <td>-0.776725</td>\n",
       "      <td>0.681424</td>\n",
       "      <td>0.713161</td>\n",
       "    </tr>\n",
       "    <tr>\n",
       "      <th>5151</th>\n",
       "      <td>-1.405172</td>\n",
       "      <td>0.820482</td>\n",
       "      <td>-0.512329</td>\n",
       "      <td>-0.434229</td>\n",
       "      <td>-0.244361</td>\n",
       "      <td>-0.380135</td>\n",
       "      <td>-0.785324</td>\n",
       "      <td>0.646753</td>\n",
       "      <td>-0.513271</td>\n",
       "      <td>-1.041356</td>\n",
       "      <td>-0.780602</td>\n",
       "      <td>0.686867</td>\n",
       "      <td>0.717910</td>\n",
       "    </tr>\n",
       "    <tr>\n",
       "      <th>11989</th>\n",
       "      <td>0.742722</td>\n",
       "      <td>-1.164566</td>\n",
       "      <td>5.026969</td>\n",
       "      <td>3.626825</td>\n",
       "      <td>5.494770</td>\n",
       "      <td>4.185761</td>\n",
       "      <td>-0.766587</td>\n",
       "      <td>1.021258</td>\n",
       "      <td>0.316124</td>\n",
       "      <td>-0.817199</td>\n",
       "      <td>-0.870627</td>\n",
       "      <td>0.887941</td>\n",
       "      <td>0.892008</td>\n",
       "    </tr>\n",
       "    <tr>\n",
       "      <th>8331</th>\n",
       "      <td>-1.306355</td>\n",
       "      <td>0.582276</td>\n",
       "      <td>-0.205281</td>\n",
       "      <td>0.223093</td>\n",
       "      <td>0.524003</td>\n",
       "      <td>0.216679</td>\n",
       "      <td>-0.794692</td>\n",
       "      <td>0.631772</td>\n",
       "      <td>-0.585387</td>\n",
       "      <td>-1.029524</td>\n",
       "      <td>-0.780813</td>\n",
       "      <td>0.686584</td>\n",
       "      <td>0.717600</td>\n",
       "    </tr>\n",
       "  </tbody>\n",
       "</table>\n",
       "</div>"
      ],
      "text/plain": [
       "       Median_Income  Median_Age  Tot_Rooms  Tot_Bedrooms  Population  \\\n",
       "1667        1.136988   -1.085164  -0.226456     -0.508327   -0.297781   \n",
       "5165       -1.003195    0.820482  -0.433150     -0.266910    0.035206   \n",
       "5151       -1.405172    0.820482  -0.512329     -0.434229   -0.244361   \n",
       "11989       0.742722   -1.164566   5.026969      3.626825    5.494770   \n",
       "8331       -1.306355    0.582276  -0.205281      0.223093    0.524003   \n",
       "\n",
       "       Households  Latitude  Longitude  Distance_to_coast  Distance_to_LA  \\\n",
       "1667    -0.467281  1.121117  -1.320650          -0.775438        1.205313   \n",
       "5165    -0.237533 -0.785324   0.636766          -0.540100       -1.039255   \n",
       "5151    -0.380135 -0.785324   0.646753          -0.513271       -1.041356   \n",
       "11989    4.185761 -0.766587   1.021258           0.316124       -0.817199   \n",
       "8331     0.216679 -0.794692   0.631772          -0.585387       -1.029524   \n",
       "\n",
       "       Distance_to_SanDiego  Distance_to_SanJose  Distance_to_SanFrancisco  \n",
       "1667               1.206046            -1.234833                 -1.411387  \n",
       "5165              -0.776725             0.681424                  0.713161  \n",
       "5151              -0.780602             0.686867                  0.717910  \n",
       "11989             -0.870627             0.887941                  0.892008  \n",
       "8331              -0.780813             0.686584                  0.717600  "
      ]
     },
     "execution_count": 10,
     "metadata": {},
     "output_type": "execute_result"
    }
   ],
   "source": [
    "X_test.head()"
   ]
  },
  {
   "cell_type": "code",
   "execution_count": 11,
   "id": "16d219b1",
   "metadata": {},
   "outputs": [
    {
     "name": "stdout",
     "output_type": "stream",
     "text": [
      "Random forest model, Train R^2: 0.9766450435520034\n",
      "Random forest model, Test R^2: 0.970931822867162\n"
     ]
    }
   ],
   "source": [
    "rf = RandomForestRegressor().fit(X_train, y_train)\n",
    "rf2 =RandomForestRegressor().fit(X_test, y_test)\n",
    "print(\"Random forest model, Train R^2:\", rf.score(X_train, y_train))\n",
    "print(\"Random forest model, Test R^2:\", rf2.score(X_test, y_test))"
   ]
  },
  {
   "cell_type": "code",
   "execution_count": 24,
   "id": "bd254fc5",
   "metadata": {},
   "outputs": [
    {
     "name": "stdout",
     "output_type": "stream",
     "text": [
      "Linear regression model, Train R^2: 0.6442188589575928\n",
      "Linear regression model, Test R^2: 0.6569254089271666\n"
     ]
    }
   ],
   "source": [
    "lr = LinearRegression().fit(X_train, y_train)\n",
    "lr2 = LinearRegression().fit(X_test, y_test)\n",
    "print(\"Linear regression model, Train R^2:\", lr.score(X_train, y_train))\n",
    "print(\"Linear regression model, Test R^2:\", lr2.score(X_test, y_test))"
   ]
  },
  {
   "cell_type": "code",
   "execution_count": 13,
   "id": "0c18045c",
   "metadata": {},
   "outputs": [
    {
     "name": "stdout",
     "output_type": "stream",
     "text": [
      "Lasso model, Train R^2: 0.6442182921381185\n",
      "Lasso regression model, Test R^2: 0.6569250141044274\n"
     ]
    },
    {
     "name": "stderr",
     "output_type": "stream",
     "text": [
      "/Users/arlenerivera/opt/anaconda3/lib/python3.9/site-packages/sklearn/linear_model/_coordinate_descent.py:647: ConvergenceWarning: Objective did not converge. You might want to increase the number of iterations, check the scale of the features or consider increasing regularisation. Duality gap: 2.496e+13, tolerance: 2.197e+10\n",
      "  model = cd_fast.enet_coordinate_descent(\n",
      "/Users/arlenerivera/opt/anaconda3/lib/python3.9/site-packages/sklearn/linear_model/_coordinate_descent.py:647: ConvergenceWarning: Objective did not converge. You might want to increase the number of iterations, check the scale of the features or consider increasing regularisation. Duality gap: 5.131e+12, tolerance: 5.507e+09\n",
      "  model = cd_fast.enet_coordinate_descent(\n"
     ]
    }
   ],
   "source": [
    "from sklearn.linear_model import Lasso\n",
    "la = Lasso().fit(X_train, y_train)\n",
    "la2=Lasso().fit(X_test, y_test)\n",
    "print(\"Lasso model, Train R^2:\", la.score(X_train, y_train)) \n",
    "print(\"Lasso regression model, Test R^2:\", la2.score(X_test, y_test))"
   ]
  },
  {
   "cell_type": "code",
   "execution_count": 14,
   "id": "ef80cc9f",
   "metadata": {},
   "outputs": [
    {
     "name": "stdout",
     "output_type": "stream",
     "text": [
      "Requirement already satisfied: xgboost in /Users/arlenerivera/opt/anaconda3/lib/python3.9/site-packages (1.7.2)\n",
      "Requirement already satisfied: scipy in /Users/arlenerivera/opt/anaconda3/lib/python3.9/site-packages (from xgboost) (1.7.3)\n",
      "Requirement already satisfied: numpy in /Users/arlenerivera/opt/anaconda3/lib/python3.9/site-packages (from xgboost) (1.21.5)\n",
      "Note: you may need to restart the kernel to use updated packages.\n"
     ]
    }
   ],
   "source": [
    "pip install xgboost"
   ]
  },
  {
   "cell_type": "code",
   "execution_count": 15,
   "id": "5d6cb14e",
   "metadata": {},
   "outputs": [],
   "source": [
    "from xgboost import XGBRegressor\n",
    "\n",
    "regressor = XGBRegressor()\n",
    "xg=regressor.fit(X_train, y_train)\n",
    "xg1=regressor.fit(X_test, y_test)"
   ]
  },
  {
   "cell_type": "code",
   "execution_count": 16,
   "id": "2e388432",
   "metadata": {},
   "outputs": [
    {
     "name": "stdout",
     "output_type": "stream",
     "text": [
      "XGBregressor model, Train R^2: 0.804403929721598\n",
      "XGBregressor model, Test R^2: 0.9845110544944158\n"
     ]
    }
   ],
   "source": [
    "print(\"XGBregressor model, Train R^2:\", xg.score(X_train, y_train))\n",
    "print(\"XGBregressor model, Test R^2:\", xg1.score(X_test, y_test))"
   ]
  },
  {
   "cell_type": "code",
   "execution_count": 17,
   "id": "ce6cae93",
   "metadata": {},
   "outputs": [
    {
     "data": {
      "text/plain": [
       "0.9845110544944158"
      ]
     },
     "execution_count": 17,
     "metadata": {},
     "output_type": "execute_result"
    }
   ],
   "source": [
    "#R^2 value on xgboost\n",
    "from sklearn.metrics import r2_score \n",
    "y_pred_xgboost = regressor.predict(X_test)\n",
    "r2_score(y_test, y_pred_xgboost)"
   ]
  },
  {
   "cell_type": "code",
   "execution_count": 18,
   "id": "806826c7",
   "metadata": {},
   "outputs": [
    {
     "data": {
      "text/plain": [
       "{'Median_House_Value': 0.46995652368658714,\n",
       " 'Median_Income': 0.029010150156953178,\n",
       " 'Median_Age': 0.019414160311301894,\n",
       " 'Tot_Rooms': 0.01527473890395033,\n",
       " 'Tot_Bedrooms': 0.021614882221773605,\n",
       " 'Population': 0.013466858994402597,\n",
       " 'Households': 0.05832937965192493,\n",
       " 'Latitude': 0.036994435367031495,\n",
       " 'Longitude': 0.2088449734511254,\n",
       " 'Distance_to_coast': 0.031096467694653292,\n",
       " 'Distance_to_LA': 0.028961185259251603,\n",
       " 'Distance_to_SanDiego': 0.02819324975772442,\n",
       " 'Distance_to_SanJose': 0.03884299454331992}"
      ]
     },
     "execution_count": 18,
     "metadata": {},
     "output_type": "execute_result"
    }
   ],
   "source": [
    "feature_importance = dict(zip(df.columns, list(rf.feature_importances_)))\n",
    "feature_importance"
   ]
  },
  {
   "cell_type": "code",
   "execution_count": 19,
   "id": "d95f5bc4",
   "metadata": {},
   "outputs": [
    {
     "data": {
      "text/plain": [
       "<AxesSubplot:title={'center':'Feature Importance (RandomForest)'}, ylabel='Relative Importance'>"
      ]
     },
     "execution_count": 19,
     "metadata": {},
     "output_type": "execute_result"
    },
    {
     "data": {
      "image/png": "[encoded data removed]",
      "text/plain": [
       "<Figure size 432x288 with 1 Axes>"
      ]
     },
     "metadata": {
      "needs_background": "light"
     },
     "output_type": "display_data"
    }
   ],
   "source": [
    "feature_df = pd.DataFrame(feature_importance, index=[0])\n",
    "feature_df.T.plot.bar(title=\"Feature Importance (RandomForest)\", ylabel='Relative Importance', legend=False)"
   ]
  },
  {
   "cell_type": "code",
   "execution_count": 20,
   "id": "2e1d67ce",
   "metadata": {},
   "outputs": [],
   "source": [
    "#rf2 =RandomForestRegressor().fit(X_test, y_test)\n",
    "y_pred_random=rf2.predict(X_test)"
   ]
  },
  {
   "cell_type": "code",
   "execution_count": 21,
   "id": "6085aa6a",
   "metadata": {
    "scrolled": true
   },
   "outputs": [
    {
     "data": {
      "text/plain": [
       "Text(0.5, 1.0, 'Random Forest: Predictions vs Observed Values')"
      ]
     },
     "execution_count": 21,
     "metadata": {},
     "output_type": "execute_result"
    },
    {
     "data": {
      "image/png": "[encoded data removed]",
      "text/plain": [
       "<Figure size 576x576 with 1 Axes>"
      ]
     },
     "metadata": {
      "needs_background": "light"
     },
     "output_type": "display_data"
    }
   ],
   "source": [
    "plt.subplots(figsize=(8,8))\n",
    "plt.scatter(y_pred_random,y_test,s=4, color='indianred')\n",
    "plt.plot(y_test, y_test,color='cornflowerblue', linewidth=3)\n",
    "plt.title('{}: Predictions vs Observed Values'.format(\"Random Forest\"))"
   ]
  },
  {
   "cell_type": "code",
   "execution_count": 22,
   "id": "ba7e4211",
   "metadata": {},
   "outputs": [],
   "source": [
    "from sklearn.metrics import mean_squared_error"
   ]
  },
  {
   "cell_type": "code",
   "execution_count": 23,
   "id": "a605c5f1",
   "metadata": {},
   "outputs": [
    {
     "name": "stdout",
     "output_type": "stream",
     "text": [
      "Accuracy score for Random Forest is 0.97, RMSE is 19693.09\n"
     ]
    }
   ],
   "source": [
    "print(\"Accuracy score for {} is {:.2f}, RMSE is {:.2f}\".\n",
    "      format(\"Random Forest\",r2_score(y_test, y_pred_random),\n",
    "             mean_squared_error(y_test, y_pred_random, squared=False)))"
   ]
  },
  {
   "cell_type": "code",
   "execution_count": null,
   "id": "59279c27",
   "metadata": {},
   "outputs": [],
   "source": []
  }
 ],
 "metadata": {
  "kernelspec": {
   "display_name": "Python 3 (ipykernel)",
   "language": "python",
   "name": "python3"
  },
  "language_info": {
   "codemirror_mode": {
    "name": "ipython",
    "version": 3
   },
   "file_extension": ".py",
   "mimetype": "text/x-python",
   "name": "python",
   "nbconvert_exporter": "python",
   "pygments_lexer": "ipython3",
   "version": "3.9.12"
  }
 },
 "nbformat": 4,
 "nbformat_minor": 5
}
